{
  "nbformat": 4,
  "nbformat_minor": 0,
  "metadata": {
    "colab": {
      "name": "Untitled16.ipynb",
      "provenance": [],
      "authorship_tag": "ABX9TyNBt434WjOpQFNN8/bIBe6p",
      "include_colab_link": true
    },
    "kernelspec": {
      "name": "python3",
      "display_name": "Python 3"
    },
    "language_info": {
      "name": "python"
    }
  },
  "cells": [
    {
      "cell_type": "markdown",
      "metadata": {
        "id": "view-in-github",
        "colab_type": "text"
      },
      "source": [
        "<a href=\"https://colab.research.google.com/github/shiburowin/python/blob/main/17/12/2021.ipynb\" target=\"_parent\"><img src=\"https://colab.research.google.com/assets/colab-badge.svg\" alt=\"Open In Colab\"/></a>"
      ]
    },
    {
      "cell_type": "code",
      "execution_count": 3,
      "metadata": {
        "colab": {
          "base_uri": "https://localhost:8080/"
        },
        "id": "r6F6flCdNhWN",
        "outputId": "84657e75-cb68-4e9f-d463-2138afc315cf"
      },
      "outputs": [
        {
          "output_type": "stream",
          "name": "stdout",
          "text": [
            "current date and time : \n",
            "2021-12-17 11:53:48\n"
          ]
        }
      ],
      "source": [
        "import datetime\n",
        "now = datetime.datetime.now()\n",
        "print (\"current date and time : \")\n",
        "print (now.strftime(\"%Y-%m-%d %H:%M:%S\"))"
      ]
    },
    {
      "cell_type": "code",
      "source": [
        "from math import pi\n",
        "r = float(input(\"Input the radius of the circle :\"))\n",
        "print (\"The area of the circle with radius\"+ str(r) + \"is :\" +str (pi*r**2))"
      ],
      "metadata": {
        "colab": {
          "base_uri": "https://localhost:8080/"
        },
        "id": "E5UAPf3MPg87",
        "outputId": "4d3a2bcf-7ef8-4408-c992-5c8400f46c18"
      },
      "execution_count": 5,
      "outputs": [
        {
          "output_type": "stream",
          "name": "stdout",
          "text": [
            "Input the radius of the circle :5\n",
            "The area of the circle with radius5.0is :78.53981633974483\n"
          ]
        }
      ]
    },
    {
      "cell_type": "code",
      "source": [
        "a = int(input(\"Enter the value\"))\n",
        "b = int(input(\"Enter the value\"))\n",
        "c=a+b\n",
        "print(c)"
      ],
      "metadata": {
        "colab": {
          "base_uri": "https://localhost:8080/"
        },
        "id": "Zrna1czSRWzE",
        "outputId": "a85cdf63-40b6-4d55-dab3-81b08a1a9616"
      },
      "execution_count": 6,
      "outputs": [
        {
          "output_type": "stream",
          "name": "stdout",
          "text": [
            "Enter the value5\n",
            "Enter the value10\n",
            "15\n"
          ]
        }
      ]
    },
    {
      "cell_type": "code",
      "source": [
        "fname = input(\"Enter your first name:\")\n",
        "lname = input(\"Enter your last name:\")\n",
        "print(\"hello \" + lname + \" \" + fname)"
      ],
      "metadata": {
        "colab": {
          "base_uri": "https://localhost:8080/"
        },
        "id": "wA77TwgeSIKg",
        "outputId": "22f9561a-1061-4b49-fba9-ef4ccd861315"
      },
      "execution_count": 8,
      "outputs": [
        {
          "output_type": "stream",
          "name": "stdout",
          "text": [
            "Enter your first name:Shibu\n",
            "Enter your last name:Rowin\n",
            "hello Rowin Shibu\n"
          ]
        }
      ]
    },
    {
      "cell_type": "code",
      "source": [
        "values = input(\"Input some comma separated numbers :\")\n",
        "list = values.split(\",\")\n",
        "print('List :',list)"
      ],
      "metadata": {
        "colab": {
          "base_uri": "https://localhost:8080/"
        },
        "id": "Qj1u9G0MTvqv",
        "outputId": "5963f8b0-cad6-44e9-83d8-71e018737431"
      },
      "execution_count": 13,
      "outputs": [
        {
          "output_type": "stream",
          "name": "stdout",
          "text": [
            "Input some comma separated numbers :2,5\n",
            "List : ['2', '5']\n"
          ]
        }
      ]
    },
    {
      "cell_type": "code",
      "source": [
        "filename = input(\"Input the filename: \")\n",
        "f_extns = filename.split(\".\")\n",
        "print(\"The extension of the file is :\" + repr(f_extns[-1]))"
      ],
      "metadata": {
        "colab": {
          "base_uri": "https://localhost:8080/"
        },
        "id": "xov-heYVVEBx",
        "outputId": "197b261a-1da4-411b-8867-2f9ccad819cb"
      },
      "execution_count": 14,
      "outputs": [
        {
          "output_type": "stream",
          "name": "stdout",
          "text": [
            "Input the filename: ABCD.py\n",
            "The extension of the file is :'py'\n"
          ]
        }
      ]
    }
  ]
}