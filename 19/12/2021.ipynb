{
  "nbformat": 4,
  "nbformat_minor": 0,
  "metadata": {
    "colab": {
      "name": "Untitled21.ipynb",
      "provenance": [],
      "authorship_tag": "ABX9TyOJi/1uEcYHdDUyU8GrB9HK",
      "include_colab_link": true
    },
    "kernelspec": {
      "name": "python3",
      "display_name": "Python 3"
    },
    "language_info": {
      "name": "python"
    }
  },
  "cells": [
    {
      "cell_type": "markdown",
      "metadata": {
        "id": "view-in-github",
        "colab_type": "text"
      },
      "source": [
        "<a href=\"https://colab.research.google.com/github/shiburowin/python/blob/main/19/12/2021.ipynb\" target=\"_parent\"><img src=\"https://colab.research.google.com/assets/colab-badge.svg\" alt=\"Open In Colab\"/></a>"
      ]
    },
    {
      "cell_type": "code",
      "execution_count": 2,
      "metadata": {
        "colab": {
          "base_uri": "https://localhost:8080/"
        },
        "id": "8iW8GNt5zohZ",
        "outputId": "f01c4d4a-b9ca-4d84-c533-88ebaf037c5a"
      },
      "outputs": [
        {
          "output_type": "stream",
          "name": "stdout",
          "text": [
            "SIMPLE CALCULATOR\n",
            "~~~~~~~~~~~~~~~~~\n",
            "Enter the value of A:6\n",
            "ENter the value of B:10\n",
            "Addition 6 + 10 = 16\n",
            "Subtraction 6 - 10 = -4\n",
            "Multiplication 6 * 10 = 60\n",
            "Division(quotient) 6 / 10 = 0.6\n",
            "Modulus(Remainder) 6 % 10 = 6\n"
          ]
        }
      ],
      "source": [
        "print(\"SIMPLE CALCULATOR\")\n",
        "print(\"~~~~~~~~~~~~~~~~~\")\n",
        "A = int(input(\"Enter the value of A:\"))\n",
        "B = int(input(\"ENter the value of B:\"))\n",
        "Add = A+B\n",
        "Sub = A-B\n",
        "Mul = A*B\n",
        "Div = A/B\n",
        "Mod = A%B\n",
        "print(\"Addition\",A,\"+\",B,\"=\",Add)\n",
        "print(\"Subtraction\",A,\"-\",B,\"=\",Sub)\n",
        "print(\"Multiplication\",A,\"*\",B,\"=\",Mul)\n",
        "print(\"Division(quotient)\",A,\"/\",B,\"=\",Div)\n",
        "print(\"Modulus(Remainder)\",A,\"%\",B,\"=\",Mod)"
      ]
    }
  ]
}